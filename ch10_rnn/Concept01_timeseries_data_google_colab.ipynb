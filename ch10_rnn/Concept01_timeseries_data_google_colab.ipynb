{
  "nbformat": 4,
  "nbformat_minor": 0,
  "metadata": {
    "kernelspec": {
      "display_name": "Python 3",
      "language": "python",
      "name": "python3"
    },
    "language_info": {
      "codemirror_mode": {
        "name": "ipython",
        "version": 3
      },
      "file_extension": ".py",
      "mimetype": "text/x-python",
      "name": "python",
      "nbconvert_exporter": "python",
      "pygments_lexer": "ipython3",
      "version": "3.5.2"
    },
    "colab": {
      "name": "Concept01_timeseries_data_google_colab.ipynb",
      "version": "0.3.2",
      "provenance": [],
      "collapsed_sections": []
    }
  },
  "cells": [
    {
      "cell_type": "markdown",
      "metadata": {
        "deletable": true,
        "editable": true,
        "id": "QcuuHu_noTGY",
        "colab_type": "text"
      },
      "source": [
        "# Ch `10`: Concept `01`"
      ]
    },
    {
      "cell_type": "markdown",
      "metadata": {
        "deletable": true,
        "editable": true,
        "id": "dlJfjSCboTGa",
        "colab_type": "text"
      },
      "source": [
        "## Processing timeseries data"
      ]
    },
    {
      "cell_type": "markdown",
      "metadata": {
        "deletable": true,
        "editable": true,
        "id": "uOcG56pLoTGc",
        "colab_type": "text"
      },
      "source": [
        "Load a CSV file, where each row is a feature vector:"
      ]
    },
    {
      "cell_type": "code",
      "metadata": {
        "deletable": true,
        "editable": true,
        "id": "fNk2-eyBoTGd",
        "colab_type": "code",
        "colab": {}
      },
      "source": [
        "%matplotlib inline\n",
        "import csv\n",
        "import numpy as np\n",
        "import matplotlib.pyplot as plt\n",
        "\n",
        "\n",
        "def load_series(filename, series_idx=1):\n",
        "    try:\n",
        "        with open(filename) as csvfile:\n",
        "            headerPresent = csv.Sniffer().has_header(csvfile.read(1024))\n",
        "            print(headerPresent)\n",
        "            csvfile.seek(0)\n",
        "            csvreader = csv.reader(csvfile,quoting=csv.QUOTE_NONNUMERIC)\n",
        "            if headerPresent == True:\n",
        "              next(csvreader)\n",
        "            #for row in csvreader:\n",
        "            #  print(row)\n",
        "            data = []\n",
        "            for row in csvreader:\n",
        "              if len(row) > series_idx:\n",
        "                data.append(row[series_idx])\n",
        "            npData = np.array(data)\n",
        "            print(npData.shape)\n",
        "            normalized_data = (npData - np.mean(npData)) / np.std(npData)\n",
        "        return normalized_data\n",
        "    except IOError:\n",
        "        print(\"Error\")\n",
        "        return None"
      ],
      "execution_count": 0,
      "outputs": []
    },
    {
      "cell_type": "markdown",
      "metadata": {
        "deletable": true,
        "editable": true,
        "id": "-4jWG6_AoTGi",
        "colab_type": "text"
      },
      "source": [
        "Split the timeseries dataset into two components. The first section will be for training, and the next section will be for testing."
      ]
    },
    {
      "cell_type": "code",
      "metadata": {
        "deletable": true,
        "editable": true,
        "id": "STzEyrWboTGj",
        "colab_type": "code",
        "colab": {}
      },
      "source": [
        "def split_data(data, percent_train=0.80):\n",
        "    num_rows = len(data)\n",
        "    train_data, test_data = [], []\n",
        "    for idx, row in enumerate(data):\n",
        "        if idx < num_rows * percent_train:\n",
        "            train_data.append(row)\n",
        "        else:\n",
        "            test_data.append(row)\n",
        "    return train_data, test_data"
      ],
      "execution_count": 0,
      "outputs": []
    },
    {
      "cell_type": "markdown",
      "metadata": {
        "deletable": true,
        "editable": true,
        "id": "iagvYarwoTGn",
        "colab_type": "text"
      },
      "source": [
        "Download some CSV timeseries data. Like the one here https://datamarket.com/data/set/22u3/international-airline-passengers-monthly-totals-in-thousands-jan-49-dec-60#!ds=22u3&display=line."
      ]
    },
    {
      "cell_type": "code",
      "metadata": {
        "deletable": true,
        "editable": true,
        "id": "zt1hpC8NoTGo",
        "colab_type": "code",
        "outputId": "3e006ff0-24c7-4d24-a160-e94a891f6254",
        "colab": {
          "base_uri": "https://localhost:8080/",
          "height": 336
        }
      },
      "source": [
        "if __name__=='__main__':\n",
        "    colabGDriveEnv = True\n",
        "    if colabGDriveEnv == True:\n",
        "      from google.colab import drive                                                                     \n",
        "      drive.mount('/content/drive',force_remount=True)\n",
        "      \n",
        "    # https://datamarket.com/data/set/22u3/international-airline-passengers-monthly-totals-in-thousands-jan-49-dec-60#!ds=22u3&display=line\n",
        "    timeseries = load_series('/content/drive/My Drive/international-airline-passengers.csv')\n",
        "    print(np.shape(timeseries))\n",
        "\n",
        "    plt.figure()\n",
        "    plt.plot(timeseries)\n",
        "    plt.show()\n",
        "\n"
      ],
      "execution_count": 51,
      "outputs": [
        {
          "output_type": "stream",
          "text": [
            "Mounted at /content/drive\n",
            "True\n",
            "(144,)\n",
            "(144,)\n"
          ],
          "name": "stdout"
        },
        {
          "output_type": "display_data",
          "data": {
            "image/png": "[encoded data removed]",
            "text/plain": [
              "<Figure size 432x288 with 1 Axes>"
            ]
          },
          "metadata": {
            "tags": []
          }
        }
      ]
    }
  ]
}