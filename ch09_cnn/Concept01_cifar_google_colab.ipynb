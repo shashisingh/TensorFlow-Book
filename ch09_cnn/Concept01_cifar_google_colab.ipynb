{
  "nbformat": 4,
  "nbformat_minor": 0,
  "metadata": {
    "kernelspec": {
      "display_name": "Python 3",
      "language": "python",
      "name": "python3"
    },
    "language_info": {
      "codemirror_mode": {
        "name": "ipython",
        "version": 3
      },
      "file_extension": ".py",
      "mimetype": "text/x-python",
      "name": "python",
      "nbconvert_exporter": "python",
      "pygments_lexer": "ipython3",
      "version": "3.5.2"
    },
    "colab": {
      "name": "Concept01_cifar_google_colab.ipynb",
      "version": "0.3.2",
      "provenance": [],
      "collapsed_sections": []
    }
  },
  "cells": [
    {
      "cell_type": "markdown",
      "metadata": {
        "deletable": true,
        "editable": true,
        "id": "O3NTwdQ62kZr",
        "colab_type": "text"
      },
      "source": [
        "# Ch `09`: Concept `01`"
      ]
    },
    {
      "cell_type": "markdown",
      "metadata": {
        "deletable": true,
        "editable": true,
        "id": "o7I9v_A72kZt",
        "colab_type": "text"
      },
      "source": [
        "## Using the CIFAR-10 dataset"
      ]
    },
    {
      "cell_type": "markdown",
      "metadata": {
        "deletable": true,
        "editable": true,
        "id": "N0snUuee2kZu",
        "colab_type": "text"
      },
      "source": [
        "Download the CIFAR-10 dataset for Python here https://www.cs.toronto.edu/~kriz/cifar.html.\n",
        "\n",
        "The documentation comes with the following helper function:"
      ]
    },
    {
      "cell_type": "code",
      "metadata": {
        "deletable": true,
        "editable": true,
        "id": "_KuIrbuT2kZu",
        "colab_type": "code",
        "colab": {}
      },
      "source": [
        "import pickle\n",
        "\n",
        "def unpickle(file):\n",
        "    fo = open(file, 'rb')\n",
        "    dict = pickle.load(fo, encoding='latin1')\n",
        "    fo.close()\n",
        "    return dict"
      ],
      "execution_count": 0,
      "outputs": []
    },
    {
      "cell_type": "markdown",
      "metadata": {
        "deletable": true,
        "editable": true,
        "id": "G07w0QZw2kZy",
        "colab_type": "text"
      },
      "source": [
        "Each image is a flat vector of colored pixel values. We'll convert it to a matrix of pixels instead to make it easer to reason about the image. \n",
        "\n",
        "First, let's grayscale the image so that we can deal with a more natural representation.\n",
        "\n",
        "Then, we'll crop the edges of the image away to further similify the number of dimensions in the input data.\n",
        "\n",
        "Finally, we'll normalize the input by subtracting the mean pixel intensity and dividing by the standard deviation."
      ]
    },
    {
      "cell_type": "code",
      "metadata": {
        "deletable": true,
        "editable": true,
        "id": "Mmntx7DI2kZz",
        "colab_type": "code",
        "colab": {}
      },
      "source": [
        "import numpy as np\n",
        "\n",
        "def clean(data):\n",
        "    imgs = data.reshape(data.shape[0], 3, 32, 32)\n",
        "    grayscale_imgs = imgs.mean(1)\n",
        "    cropped_imgs = grayscale_imgs[:, 4:28, 4:28]\n",
        "    img_data = cropped_imgs.reshape(data.shape[0], -1)\n",
        "    print(img_data.shape)\n",
        "    img_size = np.shape(img_data)[1]\n",
        "    means = np.mean(img_data, axis=1)#average pixel value for each image\n",
        "    print(means.shape)\n",
        "    print(means[0])\n",
        "    print(np.sum(img_data,axis=1).shape)\n",
        "    print(np.sum(img_data,axis=1)[0] / (float) (img_data.shape[1]))#average pixel value for each image\n",
        "    meansT = means.reshape(len(means), 1)\n",
        "    stds = np.std(img_data, axis=1)\n",
        "    print(stds.shape)\n",
        "    print(stds[0])\n",
        "    stdsT = stds.reshape(len(stds), 1)\n",
        "    adj_stds = np.maximum(stdsT, 1.0 / np.sqrt(img_size))\n",
        "    normalized = (img_data - meansT) / adj_stds\n",
        "    return normalized"
      ],
      "execution_count": 0,
      "outputs": []
    },
    {
      "cell_type": "markdown",
      "metadata": {
        "deletable": true,
        "editable": true,
        "id": "i39lWpgf2kZ2",
        "colab_type": "text"
      },
      "source": [
        "Here's a helper function to load and clean all the images:"
      ]
    },
    {
      "cell_type": "code",
      "metadata": {
        "deletable": true,
        "editable": true,
        "id": "7dVTOZoZ2kZ3",
        "colab_type": "code",
        "colab": {}
      },
      "source": [
        "def read_data(directory):\n",
        "    names = unpickle('{}/batches.meta'.format(directory))['label_names']\n",
        "    print('names', names)\n",
        "\n",
        "    data, labels = [], []\n",
        "    for i in range(1, 6):\n",
        "        filename = '{}/data_batch_{}'.format(directory, i)\n",
        "        batch_data = unpickle(filename)\n",
        "        if len(data) > 0:\n",
        "            data = np.vstack((data, batch_data['data']))\n",
        "            labels = np.hstack((labels, batch_data['labels']))\n",
        "        else:\n",
        "            data = batch_data['data']\n",
        "            labels = batch_data['labels']\n",
        "\n",
        "    print(np.shape(data), np.shape(labels))\n",
        "\n",
        "    data = clean(data)\n",
        "    print(data.shape)\n",
        "    print(len(data))\n",
        "    print(\"####\")\n",
        "    data = data.astype(np.float32)\n",
        "    return names, data, labels"
      ],
      "execution_count": 0,
      "outputs": []
    },
    {
      "cell_type": "markdown",
      "metadata": {
        "collapsed": true,
        "deletable": true,
        "editable": true,
        "id": "74CCWyop2kZ6",
        "colab_type": "text"
      },
      "source": [
        "Let's display some images from the dataset:"
      ]
    },
    {
      "cell_type": "code",
      "metadata": {
        "deletable": true,
        "editable": true,
        "id": "NZDJHAkG2kZ6",
        "colab_type": "code",
        "colab": {
          "base_uri": "https://localhost:8080/",
          "height": 518
        },
        "outputId": "464c6699-1d3c-4846-9cb4-a3fe8680482a"
      },
      "source": [
        "%matplotlib inline\n",
        "import matplotlib.pyplot as plt\n",
        "import random\n",
        "colabGDriveEnv = True\n",
        "\n",
        "if colabGDriveEnv == True:\n",
        "  from google.colab import drive\n",
        "  drive.mount('/content/drive',force_remount=True)\n",
        "\n",
        "random.seed(1)\n",
        "\n",
        "names, data, labels = read_data('/content/drive/My Drive/cifar-10-batches-py')\n",
        "\n",
        "def show_some_examples(names, data, labels):\n",
        "    plt.figure()\n",
        "    rows, cols = 4, 4\n",
        "    random_idxs = random.sample(range(len(data)), rows * cols)\n",
        "    for i in range(rows * cols):\n",
        "        plt.subplot(rows, cols, i + 1)\n",
        "        j = random_idxs[i]\n",
        "        plt.title(names[labels[j]])\n",
        "        img = np.reshape(data[j, :], (24, 24))\n",
        "        plt.imshow(img, cmap='Greys_r')\n",
        "        plt.axis('off')\n",
        "    plt.tight_layout()\n",
        "    plt.savefig('cifar_examples.png')\n",
        "\n",
        "show_some_examples(names, data, labels)"
      ],
      "execution_count": 22,
      "outputs": [
        {
          "output_type": "stream",
          "text": [
            "Mounted at /content/drive\n",
            "names ['airplane', 'automobile', 'bird', 'cat', 'deer', 'dog', 'frog', 'horse', 'ship', 'truck']\n",
            "(50000, 3072) (50000,)\n",
            "(50000, 576)\n",
            "(50000,)\n",
            "111.00810185185185\n",
            "(50000,)\n",
            "111.00810185185185\n",
            "(50000,)\n",
            "46.13916411492728\n",
            "(50000, 576)\n",
            "50000\n",
            "####\n"
          ],
          "name": "stdout"
        },
        {
          "output_type": "display_data",
          "data": {
            "image/png": "[encoded data removed]",
            "text/plain": [
              "<Figure size 432x288 with 16 Axes>"
            ]
          },
          "metadata": {
            "tags": []
          }
        }
      ]
    }
  ]
}